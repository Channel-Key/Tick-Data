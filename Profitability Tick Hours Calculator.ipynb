{
 "cells": [
  {
   "cell_type": "code",
   "execution_count": 56,
   "metadata": {},
   "outputs": [],
   "source": [
    "#Import useful functions\n",
    "import warnings\n",
    "warnings.filterwarnings(\"ignore\")\n",
    "import itertools\n",
    "import xlrd\n",
    "import xlwt\n",
    "import pandas as pd\n",
    "from pandas import ExcelWriter\n",
    "from pandas import ExcelFile\n",
    "import pylab as plt\n",
    "import numpy as np\n",
    "import xlsxwriter\n",
    "from xlrd import open_workbook\n",
    "from datetime import datetime\n",
    "plt.style.use('fivethirtyeight')"
   ]
  },
  {
   "cell_type": "code",
   "execution_count": 57,
   "metadata": {},
   "outputs": [],
   "source": [
    "#Designate filename of original tick data excel file\n",
    "filenameorig = '/Users/JoyThompson/Desktop/Tick Data December Python.xlsx'\n",
    "#Read the excel file and write to a pandas dataframe\n",
    "xl2pd = pd.read_excel(filenameorig, sheetname='Tick Data December')\n",
    "#Set the index of the tick data dataframe to the index to parse through all data values\n",
    "pods= pd.read_excel(filenameorig, sheetname='PD Frame')\n",
    "pos= pd.read_excel(filenameorig, sheetname='Employee Position Breakdown')\n",
    "pods=pods.set_index('Account')\n",
    "pos=pos.set_index('Employee')"
   ]
  },
  {
   "cell_type": "code",
   "execution_count": 58,
   "metadata": {},
   "outputs": [],
   "source": [
    "employee=xl2pd.groupby(['User','Project'])['Hours'].sum().reset_index()\n",
    "user=xl2pd.groupby(['User'])['Hours'].sum().reset_index()\n",
    "client=xl2pd.groupby(['Project'])['Hours'].sum().reset_index()"
   ]
  },
  {
   "cell_type": "code",
   "execution_count": 60,
   "metadata": {},
   "outputs": [],
   "source": [
    "for ind in employee.index:\n",
    "    emp=employee.loc[ind, 'User']\n",
    "    client=employee.loc[ind, 'Project']\n",
    "    hours=employee.loc[ind, 'Hours']\n",
    "    pods.loc[client,emp]= hours\n",
    "for ind in pods.index:\n",
    "    for col in pods.columns:\n",
    "        hours=pods.loc[ind, col]\n",
    "        if str(hours) == 'nan':\n",
    "            pods.loc[ind, col]=0"
   ]
  },
  {
   "cell_type": "code",
   "execution_count": 61,
   "metadata": {},
   "outputs": [],
   "source": [
    "filenamefinal= '/Users/JoyThompson/Desktop/Tick Data Summary December.xlsx'\n",
    "writer = pd.ExcelWriter(filenamefinal, engine='xlsxwriter')\n",
    "pods.to_excel(writer, sheet_name='Month')\n",
    "writer.save()"
   ]
  }
 ],
 "metadata": {
  "kernelspec": {
   "display_name": "Python 3",
   "language": "python",
   "name": "python3"
  },
  "language_info": {
   "codemirror_mode": {
    "name": "ipython",
    "version": 3
   },
   "file_extension": ".py",
   "mimetype": "text/x-python",
   "name": "python",
   "nbconvert_exporter": "python",
   "pygments_lexer": "ipython3",
   "version": "3.7.3"
  }
 },
 "nbformat": 4,
 "nbformat_minor": 2
}
